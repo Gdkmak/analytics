{
  "nbformat": 4,
  "nbformat_minor": 0,
  "metadata": {
    "_change_revision": 6,
    "_is_fork": false,
    "kernelspec": {
      "display_name": "Python 3",
      "language": "python",
      "name": "python3"
    },
    "language_info": {
      "codemirror_mode": {
        "name": "ipython",
        "version": 3
      },
      "file_extension": ".py",
      "mimetype": "text/x-python",
      "name": "python",
      "nbconvert_exporter": "python",
      "pygments_lexer": "ipython3",
      "version": "3.6.0"
    },
    "colab": {
      "name": "hypothesis-testing-and-predictive-analysis.ipynb",
      "provenance": [],
      "toc_visible": true,
      "include_colab_link": true
    }
  },
  "cells": [
    {
      "cell_type": "markdown",
      "metadata": {
        "id": "view-in-github",
        "colab_type": "text"
      },
      "source": [
        "<a href=\"https://colab.research.google.com/github/Gdkmak/analytics/blob/master/Hypothesis_Testing_And_Predictive_Analysis.ipynb\" target=\"_parent\"><img src=\"https://colab.research.google.com/assets/colab-badge.svg\" alt=\"Open In Colab\"/></a>"
      ]
    },
    {
      "cell_type": "markdown",
      "metadata": {
        "id": "bPBb3krqaYd1",
        "colab_type": "text"
      },
      "source": [
        "# Predicitive analysis of LA Payroll Data \n",
        "\n",
        "The data is taken from lacity.org [website](https://controllerdata.lacity.org/Payroll/City-Employee-Payroll/pazn-qyym). It has payroll information for all Los Angeles City Employees including the City's three proprietary departments: Water and Power, Airports and Harbor. The dataset containes information from 2013 year till 2018. "
      ]
    },
    {
      "cell_type": "markdown",
      "metadata": {
        "_cell_guid": "2e392be2-f09d-7083-84c3-87877ead3963",
        "id": "yUXQplEvOr1t",
        "colab_type": "text"
      },
      "source": [
        "\n",
        "\n",
        "We will do **Hypothesis testing** to check if there is a difference in the payrolll between two years 2015 and 2016:<br>\n",
        "1. Z-test scores<br>\n",
        "2. ANOVA<br>\n",
        "\n",
        "For **predictive analysis** I will use **Machine learning** tecniques such as:\n",
        "1. Linear Regression<br>\n",
        "2. Random Forests<br>"
      ]
    },
    {
      "cell_type": "code",
      "metadata": {
        "_cell_guid": "3ef82d69-83cd-8ce5-49da-98d3760ba1f3",
        "id": "IM1goDOaOr1v",
        "colab_type": "code",
        "colab": {}
      },
      "source": [
        "%matplotlib inline\n",
        "\n",
        "import pandas as pd\n",
        "import numpy as np\n",
        "import statistics\n",
        "import seaborn as sns\n",
        "import matplotlib.pyplot as plt\n",
        "import math\n",
        "\n",
        "from sklearn.linear_model import LinearRegression\n",
        "from sklearn.feature_extraction.text import TfidfVectorizer\n",
        "from sklearn.model_selection import train_test_split\n",
        "from sklearn.ensemble import RandomForestRegressor\n",
        "from sklearn.metrics import r2_score, mean_squared_error\n",
        "from scipy import stats\n",
        "from sklearn.linear_model import LogisticRegression\n",
        "from sklearn.model_selection import KFold  \n",
        "from sklearn.ensemble import RandomForestClassifier\n",
        "from sklearn.tree import DecisionTreeClassifier, export_graphviz\n",
        "from sklearn import metrics"
      ],
      "execution_count": null,
      "outputs": []
    },
    {
      "cell_type": "code",
      "metadata": {
        "_cell_guid": "aaa9b895-2309-9dd4-121b-05e2278187bd",
        "id": "tgbjtrJbOr16",
        "colab_type": "code",
        "colab": {
          "base_uri": "https://localhost:8080/",
          "height": 487
        },
        "outputId": "b42a1ae9-3b24-42c7-dc39-0a2628c96861"
      },
      "source": [
        "dataset = pd.read_csv(\"City_Employee_Payroll.csv\")\n",
        "dataset.head()"
      ],
      "execution_count": 15,
      "outputs": [
        {
          "output_type": "stream",
          "text": [
            "/usr/local/lib/python3.6/dist-packages/IPython/core/interactiveshell.py:2718: DtypeWarning: Columns (4,24) have mixed types.Specify dtype option on import or set low_memory=False.\n",
            "  interactivity=interactivity, compiler=compiler, result=result)\n"
          ],
          "name": "stderr"
        },
        {
          "output_type": "execute_result",
          "data": {
            "text/html": [
              "<div>\n",
              "<style scoped>\n",
              "    .dataframe tbody tr th:only-of-type {\n",
              "        vertical-align: middle;\n",
              "    }\n",
              "\n",
              "    .dataframe tbody tr th {\n",
              "        vertical-align: top;\n",
              "    }\n",
              "\n",
              "    .dataframe thead th {\n",
              "        text-align: right;\n",
              "    }\n",
              "</style>\n",
              "<table border=\"1\" class=\"dataframe\">\n",
              "  <thead>\n",
              "    <tr style=\"text-align: right;\">\n",
              "      <th></th>\n",
              "      <th>Row ID</th>\n",
              "      <th>Year</th>\n",
              "      <th>Department Title</th>\n",
              "      <th>Payroll Department</th>\n",
              "      <th>Record Number</th>\n",
              "      <th>Job Class Title</th>\n",
              "      <th>Employment Type</th>\n",
              "      <th>Hourly or Event Rate</th>\n",
              "      <th>Projected Annual Salary</th>\n",
              "      <th>Q1 Payments</th>\n",
              "      <th>Q2 Payments</th>\n",
              "      <th>Q3 Payments</th>\n",
              "      <th>Q4 Payments</th>\n",
              "      <th>Payments Over Base Pay</th>\n",
              "      <th>% Over Base Pay</th>\n",
              "      <th>Total Payments</th>\n",
              "      <th>Base Pay</th>\n",
              "      <th>Permanent Bonus Pay</th>\n",
              "      <th>Longevity Bonus Pay</th>\n",
              "      <th>Temporary Bonus Pay</th>\n",
              "      <th>Lump Sum Pay</th>\n",
              "      <th>Overtime Pay</th>\n",
              "      <th>Other Pay &amp; Adjustments</th>\n",
              "      <th>Other Pay (Payroll Explorer)</th>\n",
              "      <th>MOU</th>\n",
              "      <th>MOU Title</th>\n",
              "      <th>FMS Department</th>\n",
              "      <th>Job Class</th>\n",
              "      <th>Pay Grade</th>\n",
              "      <th>Average Health Cost</th>\n",
              "      <th>Average Dental Cost</th>\n",
              "      <th>Average Basic Life</th>\n",
              "      <th>Average Benefit Cost</th>\n",
              "      <th>Benefits Plan</th>\n",
              "      <th>Job Class Link</th>\n",
              "    </tr>\n",
              "  </thead>\n",
              "  <tbody>\n",
              "    <tr>\n",
              "      <th>0</th>\n",
              "      <td>3-1000027830ctFu</td>\n",
              "      <td>2013</td>\n",
              "      <td>Police (LAPD)</td>\n",
              "      <td>4301.0</td>\n",
              "      <td>1000027830</td>\n",
              "      <td>Police Detective II</td>\n",
              "      <td>Full Time</td>\n",
              "      <td>53.16</td>\n",
              "      <td>110998.08</td>\n",
              "      <td>24931.20</td>\n",
              "      <td>29181.61</td>\n",
              "      <td>26545.80</td>\n",
              "      <td>29605.30</td>\n",
              "      <td>4499.12</td>\n",
              "      <td>0.0</td>\n",
              "      <td>110263.91</td>\n",
              "      <td>105764.79</td>\n",
              "      <td>3174.12</td>\n",
              "      <td>0.00</td>\n",
              "      <td>1325.0</td>\n",
              "      <td>0.00</td>\n",
              "      <td>0.00</td>\n",
              "      <td>0.00</td>\n",
              "      <td>4499.12</td>\n",
              "      <td>24</td>\n",
              "      <td>POLICE OFFICERS UNIT</td>\n",
              "      <td>70</td>\n",
              "      <td>2223</td>\n",
              "      <td>2</td>\n",
              "      <td>11651.40</td>\n",
              "      <td>898.08</td>\n",
              "      <td>191.04</td>\n",
              "      <td>12740.52</td>\n",
              "      <td>Police</td>\n",
              "      <td>http://per.lacity.org/perspecs/2223.pdf</td>\n",
              "    </tr>\n",
              "    <tr>\n",
              "      <th>1</th>\n",
              "      <td>3-1000155488ctFu</td>\n",
              "      <td>2013</td>\n",
              "      <td>Police (LAPD)</td>\n",
              "      <td>4302.0</td>\n",
              "      <td>1000155488</td>\n",
              "      <td>Clerk Typist</td>\n",
              "      <td>Full Time</td>\n",
              "      <td>23.77</td>\n",
              "      <td>49623.67</td>\n",
              "      <td>11343.96</td>\n",
              "      <td>13212.37</td>\n",
              "      <td>11508.36</td>\n",
              "      <td>13442.53</td>\n",
              "      <td>1844.82</td>\n",
              "      <td>0.0</td>\n",
              "      <td>49507.22</td>\n",
              "      <td>47662.40</td>\n",
              "      <td>0.00</td>\n",
              "      <td>1310.82</td>\n",
              "      <td>0.0</td>\n",
              "      <td>0.00</td>\n",
              "      <td>0.00</td>\n",
              "      <td>534.00</td>\n",
              "      <td>1844.82</td>\n",
              "      <td>3</td>\n",
              "      <td>CLERICAL UNIT</td>\n",
              "      <td>70</td>\n",
              "      <td>1358</td>\n",
              "      <td>0</td>\n",
              "      <td>10710.24</td>\n",
              "      <td>405.24</td>\n",
              "      <td>11.40</td>\n",
              "      <td>11126.88</td>\n",
              "      <td>City</td>\n",
              "      <td>http://per.lacity.org/perspecs/1358.pdf</td>\n",
              "    </tr>\n",
              "    <tr>\n",
              "      <th>2</th>\n",
              "      <td>3-1000194958ctFu</td>\n",
              "      <td>2013</td>\n",
              "      <td>Police (LAPD)</td>\n",
              "      <td>4301.0</td>\n",
              "      <td>1000194958</td>\n",
              "      <td>Police Sergeant I</td>\n",
              "      <td>Full Time</td>\n",
              "      <td>60.80</td>\n",
              "      <td>126950.40</td>\n",
              "      <td>24184.00</td>\n",
              "      <td>28327.20</td>\n",
              "      <td>28744.20</td>\n",
              "      <td>33224.88</td>\n",
              "      <td>13192.43</td>\n",
              "      <td>0.0</td>\n",
              "      <td>114480.28</td>\n",
              "      <td>101287.85</td>\n",
              "      <td>7363.95</td>\n",
              "      <td>0.00</td>\n",
              "      <td>1205.0</td>\n",
              "      <td>2133.18</td>\n",
              "      <td>4424.32</td>\n",
              "      <td>-1934.02</td>\n",
              "      <td>8768.11</td>\n",
              "      <td>24</td>\n",
              "      <td>POLICE OFFICERS UNIT</td>\n",
              "      <td>70</td>\n",
              "      <td>2227</td>\n",
              "      <td>1</td>\n",
              "      <td>11651.40</td>\n",
              "      <td>898.08</td>\n",
              "      <td>191.04</td>\n",
              "      <td>12740.52</td>\n",
              "      <td>Police</td>\n",
              "      <td>http://per.lacity.org/perspecs/2227.pdf</td>\n",
              "    </tr>\n",
              "    <tr>\n",
              "      <th>3</th>\n",
              "      <td>3-1000198958ctFu</td>\n",
              "      <td>2013</td>\n",
              "      <td>Zoo</td>\n",
              "      <td>8701.0</td>\n",
              "      <td>1000198958</td>\n",
              "      <td>Light Equipment Operator</td>\n",
              "      <td>Full Time</td>\n",
              "      <td>30.23</td>\n",
              "      <td>63126.77</td>\n",
              "      <td>15319.59</td>\n",
              "      <td>17762.14</td>\n",
              "      <td>15601.85</td>\n",
              "      <td>18233.32</td>\n",
              "      <td>5924.08</td>\n",
              "      <td>0.0</td>\n",
              "      <td>66916.90</td>\n",
              "      <td>60992.82</td>\n",
              "      <td>3446.79</td>\n",
              "      <td>1677.29</td>\n",
              "      <td>800.0</td>\n",
              "      <td>0.00</td>\n",
              "      <td>0.00</td>\n",
              "      <td>0.00</td>\n",
              "      <td>5924.08</td>\n",
              "      <td>4</td>\n",
              "      <td>EQUIP.OPER. &amp; LABOR</td>\n",
              "      <td>87</td>\n",
              "      <td>3523</td>\n",
              "      <td>0</td>\n",
              "      <td>10710.24</td>\n",
              "      <td>405.24</td>\n",
              "      <td>11.40</td>\n",
              "      <td>11126.88</td>\n",
              "      <td>City</td>\n",
              "      <td>http://per.lacity.org/perspecs/3523.pdf</td>\n",
              "    </tr>\n",
              "    <tr>\n",
              "      <th>4</th>\n",
              "      <td>3-1000232317ctFu</td>\n",
              "      <td>2013</td>\n",
              "      <td>Police (LAPD)</td>\n",
              "      <td>4301.0</td>\n",
              "      <td>1000232317</td>\n",
              "      <td>Police Lieutenant I</td>\n",
              "      <td>Full Time</td>\n",
              "      <td>60.98</td>\n",
              "      <td>127326.24</td>\n",
              "      <td>29391.20</td>\n",
              "      <td>36591.20</td>\n",
              "      <td>32904.81</td>\n",
              "      <td>37234.03</td>\n",
              "      <td>18034.53</td>\n",
              "      <td>0.0</td>\n",
              "      <td>136121.24</td>\n",
              "      <td>118086.71</td>\n",
              "      <td>7086.67</td>\n",
              "      <td>0.00</td>\n",
              "      <td>1325.0</td>\n",
              "      <td>0.00</td>\n",
              "      <td>9839.33</td>\n",
              "      <td>-216.47</td>\n",
              "      <td>8195.20</td>\n",
              "      <td>24</td>\n",
              "      <td>POLICE OFFICERS UNIT</td>\n",
              "      <td>70</td>\n",
              "      <td>2232</td>\n",
              "      <td>1</td>\n",
              "      <td>11651.40</td>\n",
              "      <td>898.08</td>\n",
              "      <td>191.04</td>\n",
              "      <td>12740.52</td>\n",
              "      <td>Police</td>\n",
              "      <td>http://per.lacity.org/perspecs/2232.pdf</td>\n",
              "    </tr>\n",
              "  </tbody>\n",
              "</table>\n",
              "</div>"
            ],
            "text/plain": [
              "             Row ID  ...                           Job Class Link\n",
              "0  3-1000027830ctFu  ...  http://per.lacity.org/perspecs/2223.pdf\n",
              "1  3-1000155488ctFu  ...  http://per.lacity.org/perspecs/1358.pdf\n",
              "2  3-1000194958ctFu  ...  http://per.lacity.org/perspecs/2227.pdf\n",
              "3  3-1000198958ctFu  ...  http://per.lacity.org/perspecs/3523.pdf\n",
              "4  3-1000232317ctFu  ...  http://per.lacity.org/perspecs/2232.pdf\n",
              "\n",
              "[5 rows x 35 columns]"
            ]
          },
          "metadata": {
            "tags": []
          },
          "execution_count": 15
        }
      ]
    },
    {
      "cell_type": "markdown",
      "metadata": {
        "_cell_guid": "22cbceb4-cca4-9fe1-82e9-667a35f7b655",
        "id": "yCbgNrIIOr2D",
        "colab_type": "text"
      },
      "source": [
        "## Data Cleaning: \n",
        "Data needs to be clean; a few steps such as. I will be focusing on pay valriables. \n",
        "\n",
        "1. delete null pata points from some variables\n",
        "2. delete rows with zeros \n",
        "3. replace $ sign with nothing\n",
        "4. rename some columns to makes it easy to call them\n",
        "\n"
      ]
    },
    {
      "cell_type": "code",
      "metadata": {
        "_cell_guid": "9c8a29ff-6f6b-6156-8cbc-32ab3ca32ad5",
        "id": "l9HWIH_COr2E",
        "colab_type": "code",
        "colab": {}
      },
      "source": [
        "# delete null values in payroll department\n",
        "\n",
        "df = dataset[pd.notnull(dataset['Payroll Department'])]\n",
        "df = dataset[pd.notnull(dataset['Base Pay'])]\n",
        "\n",
        "\n",
        "# change some columns' names\n",
        "\n",
        "df.rename(columns={'Projected Annual Salary' : 'Annual_sal'}, inplace = True)\n",
        "df.rename(columns={'Job Class Title' : 'Job_title'}, inplace = True)\n",
        "df.rename(columns={'Base Pay' : 'Base_Pay'}, inplace = True)\n",
        "\n",
        "\n",
        "# delete zeros from Annual salary and Base pay variables\n",
        "\n",
        "df = df[df.Annual_sal != 0]  \n",
        "df = df[df.Base_Pay != 0]\n",
        "df.Annual_sal = df.Annual_sal.astype(float)\n",
        "df.Base_Pay = df.Base_Pay.astype(float)"
      ],
      "execution_count": 17,
      "outputs": []
    },
    {
      "cell_type": "code",
      "metadata": {
        "_cell_guid": "8d21c2cb-5cd0-6029-c73c-16d81168c93b",
        "id": "gC5iMjdqOr2X",
        "colab_type": "code",
        "colab": {
          "base_uri": "https://localhost:8080/",
          "height": 417
        },
        "outputId": "c8e3c151-fd83-4874-f65d-c89ba36b2402"
      },
      "source": [
        "plt.figure(figsize = (10,6))\n",
        "sns.distplot(df.Annual_sal,color = 'navy')"
      ],
      "execution_count": 18,
      "outputs": [
        {
          "output_type": "execute_result",
          "data": {
            "text/plain": [
              "<matplotlib.axes._subplots.AxesSubplot at 0x7f29eebeb2b0>"
            ]
          },
          "metadata": {
            "tags": []
          },
          "execution_count": 18
        },
        {
          "output_type": "display_data",
          "data": {
            "image/png": "[encoded data removed]",
            "text/plain": [
              "<Figure size 720x432 with 1 Axes>"
            ]
          },
          "metadata": {
            "tags": [],
            "needs_background": "light"
          }
        }
      ]
    },
    {
      "cell_type": "code",
      "metadata": {
        "id": "Xp38gmDlDrBU",
        "colab_type": "code",
        "colab": {
          "base_uri": "https://localhost:8080/",
          "height": 34
        },
        "outputId": "531ee68c-8d92-43e0-e9ff-e5268a6bc9f4"
      },
      "source": [
        "df.Year.unique()"
      ],
      "execution_count": 19,
      "outputs": [
        {
          "output_type": "execute_result",
          "data": {
            "text/plain": [
              "array([2013, 2014, 2015, 2017, 2016, 2018])"
            ]
          },
          "metadata": {
            "tags": []
          },
          "execution_count": 19
        }
      ]
    },
    {
      "cell_type": "markdown",
      "metadata": {
        "id": "Lmng6YvmBN8e",
        "colab_type": "text"
      },
      "source": [
        "The dataset has payroll data for years between 2013 and 2018. I will take two populations from the existing dataset, one represnts the year of 2013 and another one for 2014."
      ]
    },
    {
      "cell_type": "code",
      "metadata": {
        "_cell_guid": "8c5a578a-06c6-9db9-30db-95a9ad7d7c55",
        "id": "75-7vr1zOr2d",
        "colab_type": "code",
        "colab": {}
      },
      "source": [
        "df_14 = df[df.Year == 2014]\n",
        "df_15 = df[df.Year == 2015]\n",
        "df_16 = df[df.Year == 2016]\n",
        "df_17 = df[df.Year == 2017]\n",
        "df_18 = df[df.Year == 2018]"
      ],
      "execution_count": 24,
      "outputs": []
    },
    {
      "cell_type": "markdown",
      "metadata": {
        "_cell_guid": "7e402c97-0a74-fad3-7343-cd64719400a4",
        "id": "CjoIbqJHOr2g",
        "colab_type": "text"
      },
      "source": [
        "Calculating the Population Parameters which are the mean and the standard deviation."
      ]
    },
    {
      "cell_type": "code",
      "metadata": {
        "_cell_guid": "78af4e8c-b491-1802-26e9-f28fd8218fe1",
        "id": "VSalAu9sOr2h",
        "colab_type": "code",
        "colab": {
          "base_uri": "https://localhost:8080/",
          "height": 86
        },
        "outputId": "3eb85650-1294-4ec0-8f83-258ef250963f"
      },
      "source": [
        "# mean and std from the smaple in 2015 and 2106  \n",
        "\n",
        "mean_2015 = df_15['Annual_sal'].mean()\n",
        "std_2015 = statistics.stdev(df_15.Annual_sal)\n",
        "mean_2016 = df_16['Annual_sal'].mean()\n",
        "std_2016 = statistics.stdev(df_16.Annual_sal)\n",
        "\n",
        "print(f\"Population Mean 2015: {mean_2015}\")\n",
        "print(f\"Population Standard Deviation 2015: {std_2015}\")\n",
        "print(f\"Population Mean 2016: {mean_2016}\")\n",
        "print(f\"Population Standard Deviation 2016: {std_2016}\")"
      ],
      "execution_count": 21,
      "outputs": [
        {
          "output_type": "stream",
          "text": [
            "Population Mean 2015: 79326.04829235564\n",
            "Population Standard Deviation 2015: 33892.88647304113\n",
            "Population Mean 2016: 81644.61963817796\n",
            "Population Standard Deviation 2016: 35033.057110714675\n"
          ],
          "name": "stdout"
        }
      ]
    },
    {
      "cell_type": "markdown",
      "metadata": {
        "_cell_guid": "128407af-dcf5-5092-1529-41fdc4859db9",
        "id": "9Of5zzavOr2s",
        "colab_type": "text"
      },
      "source": [
        "## Hypothesis Testing"
      ]
    },
    {
      "cell_type": "markdown",
      "metadata": {
        "_cell_guid": "6e981fd5-2b23-a17a-a4cb-edbdb9f5fefd",
        "id": "LMLC4Ju0Or2t",
        "colab_type": "text"
      },
      "source": [
        "### z- test scores: \n",
        "\n",
        "A z-test for two means is a hypothesis test that attempts to make a claim about the population means `(μ1\\mu_1μ1​ and μ2\\mu_2μ2​)`. More specifically, we are interested in assessing whether or not it is reasonable to claim that the two population means the population means `μ\\muμ1` and `μ\\muμ2` are equal, based on the information provided by the samples. The test has two non-overlapping hypotheses, the null and the alternative hypothesis. <br>\n",
        "\n",
        "`H0`: Pay does not increase in 2016 <br>\n",
        "`Ha`: There is an increase in 2016"
      ]
    },
    {
      "cell_type": "code",
      "metadata": {
        "_cell_guid": "4b09beb1-4545-3921-ffdb-1e02108cbf84",
        "id": "qwBz4zJ-Or2u",
        "colab_type": "code",
        "colab": {
          "base_uri": "https://localhost:8080/",
          "height": 34
        },
        "outputId": "6e2fb562-e679-41c9-c975-8bb3674ec681"
      },
      "source": [
        "# Confidence Level 95 %  for one right sided normal distribution\n",
        "# zscore_critical = 1.65 \n",
        "# significance level = .05\n",
        "# Calculate the test statistics \n",
        "z_test_score = ((mean_2015 - mean_2016)) /  ( math.sqrt(std_2015**2 /df_15.shape[0]) + math.sqrt(std_2016**2 / df_16.shape[0]) ) \n",
        "print(z_test_score)"
      ],
      "execution_count": 22,
      "outputs": [
        {
          "output_type": "stream",
          "text": [
            "-8.19947277227674\n"
          ],
          "name": "stdout"
        }
      ]
    },
    {
      "cell_type": "markdown",
      "metadata": {
        "_cell_guid": "c1172db8-c85a-481d-8239-540955253c68",
        "id": "Y9Lcwf7NOr2y",
        "colab_type": "text"
      },
      "source": [
        "Conclusion: As the test statistics fall into the fail to reject region and we failed to reject the null hypothesis. The p-value from z-score is : 0.38209 calculated [here](https://www.statology.org/z-score-to-p-value-calculator/) and that can be concluded that there is no significant evidence that the annual salaries has increased in 2016. "
      ]
    },
    {
      "cell_type": "markdown",
      "metadata": {
        "_cell_guid": "0fba82e3-0385-ba19-15a1-8287a02521c1",
        "id": "OC4xTOQIOr3F",
        "colab_type": "text"
      },
      "source": [
        "### F Distribution and one-way ANOVA"
      ]
    },
    {
      "cell_type": "markdown",
      "metadata": {
        "_cell_guid": "0daafdb7-aeba-e8c1-0e51-4e751cf05dac",
        "id": "HICFEa2YOr3F",
        "colab_type": "text"
      },
      "source": [
        "ANOVA is used to determine whether there are any statistically significant differences between the means of three or more independent (unrelated) groups. It is similar to applying t-tests over multiple sample. I will do the test on the electricians's base pay during the three years 2014, 2015, 2016. \n",
        "\n",
        "`H0`: The group means didn't change and there is no difference in base pay for electricion. <br>\n",
        "`Ha`: There are at least two group means that are statistically significantly different from each other.\n"
      ]
    },
    {
      "cell_type": "code",
      "metadata": {
        "_cell_guid": "d1ad5c0f-1081-aaf0-c2a4-440c6b7320e0",
        "id": "2PZk7wxVOr3F",
        "colab_type": "code",
        "colab": {
          "base_uri": "https://localhost:8080/",
          "height": 69
        },
        "outputId": "841ab018-a355-43d9-ff27-1cd45f387c91"
      },
      "source": [
        "payroll_2014_elec = df_14[df_14.Job_title == 'Electrician']\n",
        "payroll_2015_elec = df_15[df_15.Job_title == 'Electrician']\n",
        "payroll_2016_elec = df_16[df_16.Job_title == 'Electrician']\n",
        "\n",
        "sample_elec_2014 = payroll_2014_elec.sample(frac=0.45)\n",
        "sample_elec_mean_2014 = sample_elec_2014['Base_Pay'].mean()\n",
        "print(\"Sample Mean 2014 \"+str(sample_elec_mean_2014))\n",
        "\n",
        "sample_elec_2015 = payroll_2015_elec.sample(frac=0.38)\n",
        "sample_elec_mean_2015 = sample_elec_2015['Base_Pay'].mean()\n",
        "print(\"Sample Mean 2015 \"+str(sample_elec_mean_2015))\n",
        "\n",
        "sample_elec_2016 = payroll_2016_elec.sample(frac=0.25)\n",
        "sample_elec_mean_2016 = sample_elec_2016['Base_Pay'].mean()\n",
        "print(\"Sample Mean 2016 \"+str(sample_elec_mean_2016))\n",
        "\n",
        "# Creating the Samples of the base pays over three years\n",
        "sam_1 = sample_elec_2014.Base_Pay\n",
        "sam_2 = sample_elec_2015.Base_Pay\n",
        "sam_3 = sample_elec_2016.Base_Pay\n"
      ],
      "execution_count": 25,
      "outputs": [
        {
          "output_type": "stream",
          "text": [
            "Sample Mean 2014 76423.74942857143\n",
            "Sample Mean 2015 67595.31333333334\n",
            "Sample Mean 2016 76505.12857142858\n"
          ],
          "name": "stdout"
        }
      ]
    },
    {
      "cell_type": "markdown",
      "metadata": {
        "_cell_guid": "6c0f7e3e-d2eb-18cb-d14d-c8b45ef950ec",
        "id": "WizVx2X9Or3K",
        "colab_type": "text"
      },
      "source": [
        "**Calculating the test statistics**"
      ]
    },
    {
      "cell_type": "code",
      "metadata": {
        "_cell_guid": "d10bc03b-262c-7774-706e-f48e71e4da10",
        "id": "bvdaSFRxOr3L",
        "colab_type": "code",
        "colab": {
          "base_uri": "https://localhost:8080/",
          "height": 69
        },
        "outputId": "44df22f6-d180-4da0-9164-3856c6c4d759"
      },
      "source": [
        "f, p = stats.f_oneway(sam_1, sam_2, sam_3 )\n",
        "print ('F value:', f)\n",
        "print ('P value:', p, '\\n')"
      ],
      "execution_count": 26,
      "outputs": [
        {
          "output_type": "stream",
          "text": [
            "F value: 1.5854338332809312\n",
            "P value: 0.21078743805678543 \n",
            "\n"
          ],
          "name": "stdout"
        }
      ]
    },
    {
      "cell_type": "markdown",
      "metadata": {
        "_cell_guid": "1d785156-ace9-6d45-96fa-d8e2b61b7f77",
        "id": "vW0d15NrOr3P",
        "colab_type": "text"
      },
      "source": [
        "P value is very small, therefore we reject the null hypothesis. "
      ]
    },
    {
      "cell_type": "markdown",
      "metadata": {
        "_cell_guid": "1270aa06-a166-8ab6-d475-d8e03db12b9d",
        "id": "1we6dgJ3Or3Q",
        "colab_type": "text"
      },
      "source": [
        "## Predictive Analysis using Machine Learning: "
      ]
    },
    {
      "cell_type": "markdown",
      "metadata": {
        "id": "SjiSGF2YcgKq",
        "colab_type": "text"
      },
      "source": [
        "### Random Forest: \n",
        "\n",
        "It has an ensemble approach where it generates many randomized decision trees to predict output, numerical output in this case. We will predict the salaries according to their job titles."
      ]
    },
    {
      "cell_type": "code",
      "metadata": {
        "_cell_guid": "80b1f9de-5bd2-4513-0017-2f1fd4d29835",
        "id": "vlvsd6BTOr3Q",
        "colab_type": "code",
        "colab": {}
      },
      "source": [
        "# Transform the qualitative data into vectors\n",
        "vect = TfidfVectorizer(stop_words = 'english')\n",
        "X = vect.fit_transform(df.Job_title)\n",
        "y = df.Annual_sal\n",
        "\n",
        "# split to train and test set\n",
        "X_train, X_test, y_train, y_test = train_test_split(X, y, random_state = 23)\n",
        "\n",
        "# fit the model\n",
        "clf = RandomForestRegressor()\n",
        "clf.fit(X_train, y_train)\n",
        "\n",
        "pred_train = clf.predict(X_train)\n",
        "pred_test = clf.predict(X_test)"
      ],
      "execution_count": 27,
      "outputs": []
    },
    {
      "cell_type": "code",
      "metadata": {
        "id": "rD-YdYNve3f5",
        "colab_type": "code",
        "colab": {
          "base_uri": "https://localhost:8080/",
          "height": 52
        },
        "outputId": "8ea15678-2605-453d-aba5-2b379a33d6f2"
      },
      "source": [
        "print('R^2 score training set: {}'.format(r2_score(y_train, pred_train)))\n",
        "print('R^\" score test set: {}'.format(r2_score(y_test, pred_test)))"
      ],
      "execution_count": 28,
      "outputs": [
        {
          "output_type": "stream",
          "text": [
            "R^2 score training set: 0.9323329532516339\n",
            "R^\" score test set: 0.9323736535563492\n"
          ],
          "name": "stdout"
        }
      ]
    },
    {
      "cell_type": "markdown",
      "metadata": {
        "id": "8s-kRzLJfNwZ",
        "colab_type": "text"
      },
      "source": [
        "Let's check the accuracy in a more visual way."
      ]
    },
    {
      "cell_type": "code",
      "metadata": {
        "_cell_guid": "68c0c9f0-0320-941e-f44f-677d4c8ad3bb",
        "id": "u-KisDoUOr3g",
        "colab_type": "code",
        "colab": {
          "base_uri": "https://localhost:8080/",
          "height": 360
        },
        "outputId": "7bb9b811-9715-49c6-8e89-5ca07d89d272"
      },
      "source": [
        "fig = plt.figure(figsize=(16,12))\n",
        "\n",
        "ax1 = fig.add_subplot(221)\n",
        "ax2 = fig.add_subplot(222)\n",
        "\n",
        "ax1.plot([x for x in range(len(pred_train))], y_train - pred_train, 'o')\n",
        "ax1.axhline(0)\n",
        "ax1.title.set_text('Accuracy of prediction in training set')\n",
        "\n",
        "ax2.plot([x for x in range(len(pred_test))], y_test - pred_test,'o')\n",
        "ax2.axhline(0)\n",
        "ax2.title.set_text('Accuracy of prediction in test set')"
      ],
      "execution_count": 29,
      "outputs": [
        {
          "output_type": "display_data",
          "data": {
            "image/png": "[encoded data removed]",
            "text/plain": [
              "<Figure size 1152x864 with 2 Axes>"
            ]
          },
          "metadata": {
            "tags": [],
            "needs_background": "light"
          }
        }
      ]
    },
    {
      "cell_type": "markdown",
      "metadata": {
        "_cell_guid": "a0d7e348-ccde-5a5f-2cad-e90c4ea8adf2",
        "id": "p6FUVGmuOr3j",
        "colab_type": "text"
      },
      "source": [
        "### Linear Regression:"
      ]
    },
    {
      "cell_type": "code",
      "metadata": {
        "_cell_guid": "736f522a-7cf5-3107-2e7e-5ce4cd8660b9",
        "id": "0u6Xj3DROr3k",
        "colab_type": "code",
        "colab": {}
      },
      "source": [
        "# Selecting the features and creating train test split\n",
        "X = df[['Annual_sal','Q1 Payments','Q2 Payments','Q3 Payments','Q4 Payments']].copy()\n",
        "y = df[\"Average Benefit Cost\"]\n",
        "X_train, X_test, y_train, y_test = train_test_split(X, y, test_size=0.4)"
      ],
      "execution_count": 30,
      "outputs": []
    },
    {
      "cell_type": "code",
      "metadata": {
        "_cell_guid": "c7393b81-e542-1c3b-f5b2-a9e3bc09d3b4",
        "id": "_rgPlKJbOr3o",
        "colab_type": "code",
        "colab": {
          "base_uri": "https://localhost:8080/",
          "height": 34
        },
        "outputId": "21e435f3-6142-4192-8ff1-288ab741d5d9"
      },
      "source": [
        "# train the model\n",
        "lm = LinearRegression()\n",
        "lm.fit(X_train,y_train)"
      ],
      "execution_count": 31,
      "outputs": [
        {
          "output_type": "execute_result",
          "data": {
            "text/plain": [
              "LinearRegression(copy_X=True, fit_intercept=True, n_jobs=None, normalize=False)"
            ]
          },
          "metadata": {
            "tags": []
          },
          "execution_count": 31
        }
      ]
    },
    {
      "cell_type": "code",
      "metadata": {
        "_cell_guid": "1a420e2c-0a89-3777-420d-ad38ea9ba32f",
        "id": "0XFffjv-Or3r",
        "colab_type": "code",
        "colab": {
          "base_uri": "https://localhost:8080/",
          "height": 156
        },
        "outputId": "a183db97-d8d8-442f-a020-62b8bd534bd4"
      },
      "source": [
        "coeff_df = pd.DataFrame(lm.coef_,X.columns,columns=['Coefficient'])\n",
        "ranked_suburbs = coeff_df.sort_values(\"Coefficient\", ascending = False)\n",
        "print(f\"Model intercept: {lm.intercept_}\\n\")\n",
        "print(ranked_suburbs)"
      ],
      "execution_count": 32,
      "outputs": [
        {
          "output_type": "stream",
          "text": [
            "Model intercept: 4415.524171191288\n",
            "\n",
            "             Coefficient\n",
            "Q1 Payments     0.134087\n",
            "Q4 Payments     0.113864\n",
            "Annual_sal      0.022158\n",
            "Q3 Payments     0.010595\n",
            "Q2 Payments    -0.009730\n"
          ],
          "name": "stdout"
        }
      ]
    },
    {
      "cell_type": "markdown",
      "metadata": {
        "_cell_guid": "70133ebe-11aa-450a-08d2-c190cf99587e",
        "id": "So11FgcSOr3v",
        "colab_type": "text"
      },
      "source": [
        "As you notice from the coefficient, there are no good correlation between these chosen variables. So i don't anticipate a good prediction. "
      ]
    },
    {
      "cell_type": "code",
      "metadata": {
        "_cell_guid": "228e2c63-7b2f-645a-b9e4-390f3d7cc759",
        "id": "GdVfZBxCOr3v",
        "colab_type": "code",
        "colab": {
          "base_uri": "https://localhost:8080/",
          "height": 52
        },
        "outputId": "59d0cfb7-b43d-43ea-8d34-2257a9d588e3"
      },
      "source": [
        "pred_train = lm.predict(X_train)\n",
        "pred_test = lm.predict(X_test)\n",
        "print('R^2 score Training set: {}'.format(r2_score(y_train, pred_train)))\n",
        "print('R^2 score Test set: {}'.format(r2_score(y_test, pred_test)))"
      ],
      "execution_count": 33,
      "outputs": [
        {
          "output_type": "stream",
          "text": [
            "R^2 score Training set: 0.4290767692430949\n",
            "R^2 score Test set: 0.42693932754910646\n"
          ],
          "name": "stdout"
        }
      ]
    },
    {
      "cell_type": "markdown",
      "metadata": {
        "id": "lkWiO-E-IBIJ",
        "colab_type": "text"
      },
      "source": [
        "As we accpected, there is a high difference between the observed data points and the fitted values. "
      ]
    }
  ]
}